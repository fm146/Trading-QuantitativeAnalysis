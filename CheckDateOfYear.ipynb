{
 "cells": [
  {
   "cell_type": "code",
   "execution_count": 3,
   "id": "d9883e31-17fe-4f81-82df-bcec15cd5433",
   "metadata": {},
   "outputs": [
    {
     "name": "stdout",
     "output_type": "stream",
     "text": [
      "Tanggal Hari Ini : 2025-06-11\n",
      "Ini adalah Hari ke : 162\n",
      "Ini adalah Pekan ke: 24\n"
     ]
    }
   ],
   "source": [
    "from datetime import datetime\n",
    "\n",
    "# 1. Dapatkan tanggal dan waktu saat ini\n",
    "tanggal_sekarang = datetime.now()\n",
    "\n",
    "# 2. Cek hari ke berapa dalam setahun\n",
    "# Menggunakan atribut .timetuple().tm_yday\n",
    "hari_ke = tanggal_sekarang.timetuple().tm_yday\n",
    "\n",
    "# 3. Cek pekan ke berapa dalam setahun\n",
    "# Menggunakan metode .isocalendar() yang menghasilkan (tahun, nomor_pekan, nomor_hari_dalam_pekan)\n",
    "_, pekan_ke, _ = tanggal_sekarang.isocalendar()\n",
    "# Kita gunakan underscore (_) untuk mengabaikan nilai tahun dan hari yang tidak kita perlukan\n",
    "\n",
    "# Tampilkan hasilnya\n",
    "print(f\"Tanggal Hari Ini : {tanggal_sekarang.strftime('%Y-%m-%d')}\")\n",
    "print(f\"Ini adalah Hari ke : {hari_ke}\")\n",
    "print(f\"Ini adalah Pekan ke: {pekan_ke}\")"
   ]
  }
 ],
 "metadata": {
  "kernelspec": {
   "display_name": "base",
   "language": "python",
   "name": "base"
  },
  "language_info": {
   "codemirror_mode": {
    "name": "ipython",
    "version": 3
   },
   "file_extension": ".py",
   "mimetype": "text/x-python",
   "name": "python",
   "nbconvert_exporter": "python",
   "pygments_lexer": "ipython3",
   "version": "3.10.4"
  }
 },
 "nbformat": 4,
 "nbformat_minor": 5
}
